{
 "cells": [
  {
   "cell_type": "code",
   "execution_count": 13,
   "metadata": {},
   "outputs": [],
   "source": [
    "corpus = \"\"\"I am curious and enjoy learning new things. \n",
    "I like taking on challenges and trying my best. \n",
    "I enjoy spending time doing what I love.\"\"\""
   ]
  },
  {
   "cell_type": "code",
   "execution_count": 14,
   "metadata": {},
   "outputs": [
    {
     "name": "stdout",
     "output_type": "stream",
     "text": [
      "I am curious and enjoy learning new things. \n",
      "I like taking on challenges and trying my best. \n",
      "I enjoy spending time doing what I love.\n"
     ]
    }
   ],
   "source": [
    "print(corpus)"
   ]
  },
  {
   "cell_type": "code",
   "execution_count": 11,
   "metadata": {},
   "outputs": [
    {
     "name": "stderr",
     "output_type": "stream",
     "text": [
      "[nltk_data] Downloading package punkt to\n",
      "[nltk_data]     C:\\Users\\fifty\\AppData\\Roaming\\nltk_data...\n",
      "[nltk_data]   Unzipping tokenizers\\punkt.zip.\n"
     ]
    },
    {
     "data": {
      "text/plain": [
       "True"
      ]
     },
     "execution_count": 11,
     "metadata": {},
     "output_type": "execute_result"
    }
   ],
   "source": [
    "# convert paragraph into sentences\n",
    "import nltk\n",
    "from nltk.tokenize import sent_tokenize\n",
    "nltk.download('punkt')"
   ]
  },
  {
   "cell_type": "code",
   "execution_count": 15,
   "metadata": {},
   "outputs": [
    {
     "data": {
      "text/plain": [
       "['I am curious and enjoy learning new things.',\n",
       " 'I like taking on challenges and trying my best.',\n",
       " 'I enjoy spending time doing what I love.']"
      ]
     },
     "execution_count": 15,
     "metadata": {},
     "output_type": "execute_result"
    }
   ],
   "source": [
    "sent_tokenize(corpus)"
   ]
  },
  {
   "cell_type": "code",
   "execution_count": 16,
   "metadata": {},
   "outputs": [],
   "source": [
    "# convert paragraph -> words\n",
    "from nltk.tokenize import word_tokenize"
   ]
  },
  {
   "cell_type": "code",
   "execution_count": 17,
   "metadata": {},
   "outputs": [
    {
     "data": {
      "text/plain": [
       "['I',\n",
       " 'am',\n",
       " 'curious',\n",
       " 'and',\n",
       " 'enjoy',\n",
       " 'learning',\n",
       " 'new',\n",
       " 'things',\n",
       " '.',\n",
       " 'I',\n",
       " 'like',\n",
       " 'taking',\n",
       " 'on',\n",
       " 'challenges',\n",
       " 'and',\n",
       " 'trying',\n",
       " 'my',\n",
       " 'best',\n",
       " '.',\n",
       " 'I',\n",
       " 'enjoy',\n",
       " 'spending',\n",
       " 'time',\n",
       " 'doing',\n",
       " 'what',\n",
       " 'I',\n",
       " 'love',\n",
       " '.']"
      ]
     },
     "execution_count": 17,
     "metadata": {},
     "output_type": "execute_result"
    }
   ],
   "source": [
    "word_tokenize(corpus)"
   ]
  },
  {
   "cell_type": "code",
   "execution_count": 19,
   "metadata": {},
   "outputs": [
    {
     "name": "stdout",
     "output_type": "stream",
     "text": [
      "['I', 'am', 'curious', 'and', 'enjoy', 'learning', 'new', 'things', '.']\n",
      "['I', 'like', 'taking', 'on', 'challenges', 'and', 'trying', 'my', 'best', '.']\n",
      "['I', 'enjoy', 'spending', 'time', 'doing', 'what', 'I', 'love', '.']\n"
     ]
    }
   ],
   "source": [
    "# convert sentences -> words\n",
    "document = sent_tokenize(corpus)\n",
    "\n",
    "for sentence in document:\n",
    "    print(nltk.word_tokenize(sentence))"
   ]
  },
  {
   "cell_type": "code",
   "execution_count": 20,
   "metadata": {},
   "outputs": [
    {
     "data": {
      "text/plain": [
       "['I',\n",
       " 'am',\n",
       " 'curious',\n",
       " 'and',\n",
       " 'enjoy',\n",
       " 'learning',\n",
       " 'new',\n",
       " 'things.',\n",
       " 'I',\n",
       " 'like',\n",
       " 'taking',\n",
       " 'on',\n",
       " 'challenges',\n",
       " 'and',\n",
       " 'trying',\n",
       " 'my',\n",
       " 'best.',\n",
       " 'I',\n",
       " 'enjoy',\n",
       " 'spending',\n",
       " 'time',\n",
       " 'doing',\n",
       " 'what',\n",
       " 'I',\n",
       " 'love',\n",
       " '.']"
      ]
     },
     "execution_count": 20,
     "metadata": {},
     "output_type": "execute_result"
    }
   ],
   "source": [
    "from nltk.tokenize import TreebankWordTokenizer\n",
    "\n",
    "tokenizer = TreebankWordTokenizer()\n",
    "\n",
    "tokenizer.tokenize(corpus)"
   ]
  },
  {
   "cell_type": "code",
   "execution_count": null,
   "metadata": {},
   "outputs": [],
   "source": []
  }
 ],
 "metadata": {
  "kernelspec": {
   "display_name": "base",
   "language": "python",
   "name": "python3"
  },
  "language_info": {
   "codemirror_mode": {
    "name": "ipython",
    "version": 3
   },
   "file_extension": ".py",
   "mimetype": "text/x-python",
   "name": "python",
   "nbconvert_exporter": "python",
   "pygments_lexer": "ipython3",
   "version": "3.11.7"
  }
 },
 "nbformat": 4,
 "nbformat_minor": 2
}
